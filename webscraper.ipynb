{
  "nbformat": 4,
  "nbformat_minor": 0,
  "metadata": {
    "colab": {
      "provenance": []
    },
    "kernelspec": {
      "name": "python3",
      "display_name": "Python 3"
    },
    "language_info": {
      "name": "python"
    }
  },
  "cells": [
    {
      "cell_type": "code",
      "execution_count": null,
      "metadata": {
        "id": "Ix99SNji5lqf"
      },
      "outputs": [],
      "source": [
        "import requests\n",
        "from bs4 import BeautifulSoup\n",
        "\n",
        "# Set the URL of the web page you want to scrape\n",
        "url = \"https://www.w3schools.com/html/default.asp\"\n",
        "\n",
        "# Fetch the web page\n",
        "response = requests.get(url)\n",
        "\n",
        "# Check if the request was successful\n",
        "if response.status_code == 200:\n",
        "  # Parse the HTML content\n",
        "  soup = BeautifulSoup(response.text, \"html.parser\")\n",
        "\n",
        "  # Find all of the div elements on the page\n",
        "  divs = soup.find_all(\"div\")\n",
        "\n",
        "  # Check if any div elements were found\n",
        "  if divs:\n",
        "    # Save the data to a file or database\n",
        "    with open(\"data.txt\", \"w\") as f:\n",
        "      for div in divs:\n",
        "        f.write(div.text + \"\\n\")\n",
        "  else:\n",
        "    # No div elements were found, handle the error\n",
        "    print(\"No div elements were found.\")\n",
        "else:\n",
        "  # Request was not successful, handle the error\n",
        "  print(f\"Request failed with status code {response.status_code}.\")"
      ]
    }
  ]
}